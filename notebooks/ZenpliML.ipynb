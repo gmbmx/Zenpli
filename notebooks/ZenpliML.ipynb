{
 "cells": [
  {
   "cell_type": "code",
   "execution_count": 12,
   "id": "bdd08c50",
   "metadata": {},
   "outputs": [],
   "source": [
    "import pandas as pd\n",
    "from sklearn.preprocessing import OneHotEncoder\n",
    "from sklearn.compose import make_column_transformer\n",
    "from sklearn.pipeline import make_pipeline\n",
    "from sklearn.model_selection import train_test_split"
   ]
  },
  {
   "cell_type": "code",
   "execution_count": 4,
   "id": "697ec102-699a-421c-a731-1f03c167c09d",
   "metadata": {},
   "outputs": [],
   "source": [
    "input_file = \"C:/Users/Willy/Documents/Zophia/zenpli/backend-dev-data-dataset.txt\"\n",
    "df = pd.read_csv(input_file, dtype={'cont_10': 'object',\n",
    "                                                      'disc_6': 'object'})"
   ]
  },
  {
   "cell_type": "code",
   "execution_count": 5,
   "id": "68028dcc",
   "metadata": {},
   "outputs": [],
   "source": [
    "train, test = train_test_split(df, test_size=0.2, random_state=1, shuffle=True)"
   ]
  },
  {
   "cell_type": "code",
   "execution_count": 18,
   "id": "19b74b51",
   "metadata": {},
   "outputs": [],
   "source": [
    "# save train and test so model can be reproducible\n",
    "train.to_csv(r\"C:/Users/Willy/Documents/Zophia/zenpli/train.csv\", sep='\\t', index=False)\n",
    "test.to_csv(r\"C:/Users/Willy/Documents/Zophia/zenpli/test.csv\", sep='\\t', index=False)"
   ]
  },
  {
   "cell_type": "code",
   "execution_count": 28,
   "id": "231cc419",
   "metadata": {},
   "outputs": [],
   "source": [
    "#features to include in model\n",
    "cols = ['cont_3','cont_4','disc_5','disc_6','cat_7','cont_9']"
   ]
  },
  {
   "cell_type": "code",
   "execution_count": 29,
   "id": "b782a28b",
   "metadata": {},
   "outputs": [],
   "source": [
    "#training set\n",
    "X = train[cols]\n",
    "y = train['cat_8']"
   ]
  },
  {
   "cell_type": "code",
   "execution_count": 30,
   "id": "a226798e",
   "metadata": {},
   "outputs": [],
   "source": [
    "#testing set\n",
    "X_test = test[cols]"
   ]
  },
  {
   "cell_type": "code",
   "execution_count": 23,
   "id": "523cd672",
   "metadata": {},
   "outputs": [],
   "source": [
    "#onehot encoder for feature engineering\n",
    "ohe = OneHotEncoder()"
   ]
  },
  {
   "cell_type": "code",
   "execution_count": 24,
   "id": "a9dab4c2",
   "metadata": {},
   "outputs": [],
   "source": [
    "#column transfomer for pipeline\n",
    "ct = make_column_transformer(\n",
    "    (ohe, ['disc_5', 'disc_6', 'cat_7']),\n",
    "    remainder='passthrough')"
   ]
  },
  {
   "cell_type": "code",
   "execution_count": 25,
   "id": "3330840f",
   "metadata": {},
   "outputs": [],
   "source": [
    "from sklearn.ensemble import RandomForestClassifier"
   ]
  },
  {
   "cell_type": "code",
   "execution_count": 26,
   "id": "bbabddb0",
   "metadata": {},
   "outputs": [],
   "source": [
    "#random forest \n",
    "rf = RandomForestClassifier(max_depth=2, random_state=0)"
   ]
  },
  {
   "cell_type": "code",
   "execution_count": 31,
   "id": "20469dcf",
   "metadata": {},
   "outputs": [
    {
     "data": {
      "text/plain": [
       "array(['happy', 'happy', 'happy', ..., 'happy', 'happy', 'happy'],\n",
       "      dtype=object)"
      ]
     },
     "execution_count": 31,
     "metadata": {},
     "output_type": "execute_result"
    }
   ],
   "source": [
    "#pipeline for one hot encoder and model\n",
    "pipe1 = make_pipeline(ct, rf)\n",
    "pipe1.fit(X, y)\n",
    "pipe1.predict(X_test)"
   ]
  },
  {
   "cell_type": "code",
   "execution_count": 32,
   "id": "a14595b0",
   "metadata": {},
   "outputs": [
    {
     "data": {
      "text/plain": [
       "0.4925"
      ]
     },
     "execution_count": 32,
     "metadata": {},
     "output_type": "execute_result"
    }
   ],
   "source": [
    "#cross validation pipe 1\n",
    "from sklearn.model_selection import cross_val_score\n",
    "cross_val_score(pipe1, X, y, cv=10, scoring='accuracy').mean()"
   ]
  },
  {
   "cell_type": "markdown",
   "id": "53302dc8",
   "metadata": {},
   "source": [
    "## Hiperparameters"
   ]
  },
  {
   "cell_type": "code",
   "execution_count": 40,
   "id": "85b8cb57",
   "metadata": {},
   "outputs": [
    {
     "data": {
      "text/plain": [
       "{'randomforestclassifier__criterion': ['gini', 'entropy'],\n",
       " 'randomforestclassifier__oob_score': [True]}"
      ]
     },
     "execution_count": 40,
     "metadata": {},
     "output_type": "execute_result"
    }
   ],
   "source": [
    "#random forest\n",
    "params1 = {}\n",
    "params1['randomforestclassifier__criterion'] = ['gini','entropy']\n",
    "params1['randomforestclassifier__oob_score'] = [True]\n",
    "params1"
   ]
  },
  {
   "cell_type": "code",
   "execution_count": 41,
   "id": "cfa146cb",
   "metadata": {},
   "outputs": [
    {
     "data": {
      "text/plain": [
       "GridSearchCV(cv=10,\n",
       "             estimator=Pipeline(steps=[('columntransformer',\n",
       "                                        ColumnTransformer(remainder='passthrough',\n",
       "                                                          transformers=[('onehotencoder',\n",
       "                                                                         OneHotEncoder(),\n",
       "                                                                         ['disc_5',\n",
       "                                                                          'disc_6',\n",
       "                                                                          'cat_7'])])),\n",
       "                                       ('randomforestclassifier',\n",
       "                                        RandomForestClassifier(max_depth=2,\n",
       "                                                               random_state=0))]),\n",
       "             param_grid={'randomforestclassifier__criterion': ['gini',\n",
       "                                                               'entropy'],\n",
       "                         'randomforestclassifier__oob_score': [True]},\n",
       "             scoring='accuracy')"
      ]
     },
     "execution_count": 41,
     "metadata": {},
     "output_type": "execute_result"
    }
   ],
   "source": [
    "from sklearn.model_selection import GridSearchCV\n",
    "grid1 = GridSearchCV(pipe1, params1, cv=10, scoring='accuracy')\n",
    "grid1.fit(X, y)"
   ]
  },
  {
   "cell_type": "code",
   "execution_count": 42,
   "id": "fbefdd6d",
   "metadata": {},
   "outputs": [
    {
     "data": {
      "text/html": [
       "<div>\n",
       "<style scoped>\n",
       "    .dataframe tbody tr th:only-of-type {\n",
       "        vertical-align: middle;\n",
       "    }\n",
       "\n",
       "    .dataframe tbody tr th {\n",
       "        vertical-align: top;\n",
       "    }\n",
       "\n",
       "    .dataframe thead th {\n",
       "        text-align: right;\n",
       "    }\n",
       "</style>\n",
       "<table border=\"1\" class=\"dataframe\">\n",
       "  <thead>\n",
       "    <tr style=\"text-align: right;\">\n",
       "      <th></th>\n",
       "      <th>mean_fit_time</th>\n",
       "      <th>std_fit_time</th>\n",
       "      <th>mean_score_time</th>\n",
       "      <th>std_score_time</th>\n",
       "      <th>param_randomforestclassifier__criterion</th>\n",
       "      <th>param_randomforestclassifier__oob_score</th>\n",
       "      <th>params</th>\n",
       "      <th>split0_test_score</th>\n",
       "      <th>split1_test_score</th>\n",
       "      <th>split2_test_score</th>\n",
       "      <th>split3_test_score</th>\n",
       "      <th>split4_test_score</th>\n",
       "      <th>split5_test_score</th>\n",
       "      <th>split6_test_score</th>\n",
       "      <th>split7_test_score</th>\n",
       "      <th>split8_test_score</th>\n",
       "      <th>split9_test_score</th>\n",
       "      <th>mean_test_score</th>\n",
       "      <th>std_test_score</th>\n",
       "      <th>rank_test_score</th>\n",
       "    </tr>\n",
       "  </thead>\n",
       "  <tbody>\n",
       "    <tr>\n",
       "      <th>0</th>\n",
       "      <td>33.342239</td>\n",
       "      <td>0.823368</td>\n",
       "      <td>0.718284</td>\n",
       "      <td>0.054590</td>\n",
       "      <td>gini</td>\n",
       "      <td>True</td>\n",
       "      <td>{'randomforestclassifier__criterion': 'gini', ...</td>\n",
       "      <td>0.4925</td>\n",
       "      <td>0.4925</td>\n",
       "      <td>0.4925</td>\n",
       "      <td>0.4925</td>\n",
       "      <td>0.4925</td>\n",
       "      <td>0.4925</td>\n",
       "      <td>0.4925</td>\n",
       "      <td>0.4925</td>\n",
       "      <td>0.4925</td>\n",
       "      <td>0.4925</td>\n",
       "      <td>0.4925</td>\n",
       "      <td>0.0</td>\n",
       "      <td>1</td>\n",
       "    </tr>\n",
       "    <tr>\n",
       "      <th>1</th>\n",
       "      <td>34.982600</td>\n",
       "      <td>0.749923</td>\n",
       "      <td>0.741824</td>\n",
       "      <td>0.023483</td>\n",
       "      <td>entropy</td>\n",
       "      <td>True</td>\n",
       "      <td>{'randomforestclassifier__criterion': 'entropy...</td>\n",
       "      <td>0.4925</td>\n",
       "      <td>0.4925</td>\n",
       "      <td>0.4925</td>\n",
       "      <td>0.4925</td>\n",
       "      <td>0.4925</td>\n",
       "      <td>0.4925</td>\n",
       "      <td>0.4925</td>\n",
       "      <td>0.4925</td>\n",
       "      <td>0.4925</td>\n",
       "      <td>0.4925</td>\n",
       "      <td>0.4925</td>\n",
       "      <td>0.0</td>\n",
       "      <td>1</td>\n",
       "    </tr>\n",
       "  </tbody>\n",
       "</table>\n",
       "</div>"
      ],
      "text/plain": [
       "   mean_fit_time  std_fit_time  mean_score_time  std_score_time  \\\n",
       "0      33.342239      0.823368         0.718284        0.054590   \n",
       "1      34.982600      0.749923         0.741824        0.023483   \n",
       "\n",
       "  param_randomforestclassifier__criterion  \\\n",
       "0                                    gini   \n",
       "1                                 entropy   \n",
       "\n",
       "  param_randomforestclassifier__oob_score  \\\n",
       "0                                    True   \n",
       "1                                    True   \n",
       "\n",
       "                                              params  split0_test_score  \\\n",
       "0  {'randomforestclassifier__criterion': 'gini', ...             0.4925   \n",
       "1  {'randomforestclassifier__criterion': 'entropy...             0.4925   \n",
       "\n",
       "   split1_test_score  split2_test_score  split3_test_score  split4_test_score  \\\n",
       "0             0.4925             0.4925             0.4925             0.4925   \n",
       "1             0.4925             0.4925             0.4925             0.4925   \n",
       "\n",
       "   split5_test_score  split6_test_score  split7_test_score  split8_test_score  \\\n",
       "0             0.4925             0.4925             0.4925             0.4925   \n",
       "1             0.4925             0.4925             0.4925             0.4925   \n",
       "\n",
       "   split9_test_score  mean_test_score  std_test_score  rank_test_score  \n",
       "0             0.4925           0.4925             0.0                1  \n",
       "1             0.4925           0.4925             0.0                1  "
      ]
     },
     "execution_count": 42,
     "metadata": {},
     "output_type": "execute_result"
    }
   ],
   "source": [
    "#Grid search results for random forest\n",
    "results1 = pd.DataFrame(grid1.cv_results_)\n",
    "results1\n"
   ]
  },
  {
   "cell_type": "code",
   "execution_count": 43,
   "id": "7e5338ab",
   "metadata": {},
   "outputs": [
    {
     "data": {
      "text/html": [
       "<div>\n",
       "<style scoped>\n",
       "    .dataframe tbody tr th:only-of-type {\n",
       "        vertical-align: middle;\n",
       "    }\n",
       "\n",
       "    .dataframe tbody tr th {\n",
       "        vertical-align: top;\n",
       "    }\n",
       "\n",
       "    .dataframe thead th {\n",
       "        text-align: right;\n",
       "    }\n",
       "</style>\n",
       "<table border=\"1\" class=\"dataframe\">\n",
       "  <thead>\n",
       "    <tr style=\"text-align: right;\">\n",
       "      <th></th>\n",
       "      <th>mean_fit_time</th>\n",
       "      <th>std_fit_time</th>\n",
       "      <th>mean_score_time</th>\n",
       "      <th>std_score_time</th>\n",
       "      <th>param_randomforestclassifier__criterion</th>\n",
       "      <th>param_randomforestclassifier__oob_score</th>\n",
       "      <th>params</th>\n",
       "      <th>split0_test_score</th>\n",
       "      <th>split1_test_score</th>\n",
       "      <th>split2_test_score</th>\n",
       "      <th>split3_test_score</th>\n",
       "      <th>split4_test_score</th>\n",
       "      <th>split5_test_score</th>\n",
       "      <th>split6_test_score</th>\n",
       "      <th>split7_test_score</th>\n",
       "      <th>split8_test_score</th>\n",
       "      <th>split9_test_score</th>\n",
       "      <th>mean_test_score</th>\n",
       "      <th>std_test_score</th>\n",
       "      <th>rank_test_score</th>\n",
       "    </tr>\n",
       "  </thead>\n",
       "  <tbody>\n",
       "    <tr>\n",
       "      <th>0</th>\n",
       "      <td>33.342239</td>\n",
       "      <td>0.823368</td>\n",
       "      <td>0.718284</td>\n",
       "      <td>0.054590</td>\n",
       "      <td>gini</td>\n",
       "      <td>True</td>\n",
       "      <td>{'randomforestclassifier__criterion': 'gini', ...</td>\n",
       "      <td>0.4925</td>\n",
       "      <td>0.4925</td>\n",
       "      <td>0.4925</td>\n",
       "      <td>0.4925</td>\n",
       "      <td>0.4925</td>\n",
       "      <td>0.4925</td>\n",
       "      <td>0.4925</td>\n",
       "      <td>0.4925</td>\n",
       "      <td>0.4925</td>\n",
       "      <td>0.4925</td>\n",
       "      <td>0.4925</td>\n",
       "      <td>0.0</td>\n",
       "      <td>1</td>\n",
       "    </tr>\n",
       "    <tr>\n",
       "      <th>1</th>\n",
       "      <td>34.982600</td>\n",
       "      <td>0.749923</td>\n",
       "      <td>0.741824</td>\n",
       "      <td>0.023483</td>\n",
       "      <td>entropy</td>\n",
       "      <td>True</td>\n",
       "      <td>{'randomforestclassifier__criterion': 'entropy...</td>\n",
       "      <td>0.4925</td>\n",
       "      <td>0.4925</td>\n",
       "      <td>0.4925</td>\n",
       "      <td>0.4925</td>\n",
       "      <td>0.4925</td>\n",
       "      <td>0.4925</td>\n",
       "      <td>0.4925</td>\n",
       "      <td>0.4925</td>\n",
       "      <td>0.4925</td>\n",
       "      <td>0.4925</td>\n",
       "      <td>0.4925</td>\n",
       "      <td>0.0</td>\n",
       "      <td>1</td>\n",
       "    </tr>\n",
       "  </tbody>\n",
       "</table>\n",
       "</div>"
      ],
      "text/plain": [
       "   mean_fit_time  std_fit_time  mean_score_time  std_score_time  \\\n",
       "0      33.342239      0.823368         0.718284        0.054590   \n",
       "1      34.982600      0.749923         0.741824        0.023483   \n",
       "\n",
       "  param_randomforestclassifier__criterion  \\\n",
       "0                                    gini   \n",
       "1                                 entropy   \n",
       "\n",
       "  param_randomforestclassifier__oob_score  \\\n",
       "0                                    True   \n",
       "1                                    True   \n",
       "\n",
       "                                              params  split0_test_score  \\\n",
       "0  {'randomforestclassifier__criterion': 'gini', ...             0.4925   \n",
       "1  {'randomforestclassifier__criterion': 'entropy...             0.4925   \n",
       "\n",
       "   split1_test_score  split2_test_score  split3_test_score  split4_test_score  \\\n",
       "0             0.4925             0.4925             0.4925             0.4925   \n",
       "1             0.4925             0.4925             0.4925             0.4925   \n",
       "\n",
       "   split5_test_score  split6_test_score  split7_test_score  split8_test_score  \\\n",
       "0             0.4925             0.4925             0.4925             0.4925   \n",
       "1             0.4925             0.4925             0.4925             0.4925   \n",
       "\n",
       "   split9_test_score  mean_test_score  std_test_score  rank_test_score  \n",
       "0             0.4925           0.4925             0.0                1  \n",
       "1             0.4925           0.4925             0.0                1  "
      ]
     },
     "execution_count": 43,
     "metadata": {},
     "output_type": "execute_result"
    }
   ],
   "source": [
    "#gridsearch results for random forest ordered by score\n",
    "results1.sort_values('rank_test_score')"
   ]
  },
  {
   "cell_type": "code",
   "execution_count": 44,
   "id": "86d96de9",
   "metadata": {},
   "outputs": [
    {
     "data": {
      "text/plain": [
       "0.4925"
      ]
     },
     "execution_count": 44,
     "metadata": {},
     "output_type": "execute_result"
    }
   ],
   "source": [
    "grid1.best_score_"
   ]
  },
  {
   "cell_type": "code",
   "execution_count": 45,
   "id": "dc23802e",
   "metadata": {},
   "outputs": [
    {
     "data": {
      "text/plain": [
       "{'randomforestclassifier__criterion': 'gini',\n",
       " 'randomforestclassifier__oob_score': True}"
      ]
     },
     "execution_count": 45,
     "metadata": {},
     "output_type": "execute_result"
    }
   ],
   "source": [
    "grid1.best_params_"
   ]
  },
  {
   "cell_type": "code",
   "execution_count": 49,
   "id": "1abece02",
   "metadata": {},
   "outputs": [
    {
     "data": {
      "text/plain": [
       "happy    200000\n",
       "dtype: int64"
      ]
     },
     "execution_count": 49,
     "metadata": {},
     "output_type": "execute_result"
    }
   ],
   "source": [
    "pd.DataFrame(grid1.predict(X_test)).value_counts()"
   ]
  }
 ],
 "metadata": {
  "kernelspec": {
   "display_name": "Python 3 (ipykernel)",
   "language": "python",
   "name": "python3"
  },
  "language_info": {
   "codemirror_mode": {
    "name": "ipython",
    "version": 3
   },
   "file_extension": ".py",
   "mimetype": "text/x-python",
   "name": "python",
   "nbconvert_exporter": "python",
   "pygments_lexer": "ipython3",
   "version": "3.9.7"
  }
 },
 "nbformat": 4,
 "nbformat_minor": 5
}
