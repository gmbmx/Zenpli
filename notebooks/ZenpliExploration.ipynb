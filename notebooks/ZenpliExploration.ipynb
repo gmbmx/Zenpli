{
 "cells": [
  {
   "cell_type": "code",
   "execution_count": 1,
   "id": "16bc1c34-a7fb-4c47-af75-d0e17b6b90b4",
   "metadata": {},
   "outputs": [],
   "source": [
    "from dask import dataframe\n",
    "import numpy as np\n",
    "import datetime\n",
    "import sklearn\n",
    "import pandas as pd\n",
    "import dask_ml\n",
    "from sklearn.preprocessing import StandardScaler"
   ]
  },
  {
   "cell_type": "code",
   "execution_count": 2,
   "id": "3ed8155a-02d0-49d2-b498-ab57bdb2af83",
   "metadata": {},
   "outputs": [],
   "source": [
    "input_file = \"C:/Users/Willy/Documents/Zophia/zenpli/backend-dev-data-dataset.txt\"\n",
    "data = dataframe.read_csv(input_file, dtype={'cont_10': 'object',\n",
    "                                                      'disc_6': 'object'})"
   ]
  },
  {
   "cell_type": "code",
   "execution_count": 3,
   "id": "c05de170-db46-4192-bd9e-86bb64452d06",
   "metadata": {},
   "outputs": [
    {
     "data": {
      "text/html": [
       "<div>\n",
       "<style scoped>\n",
       "    .dataframe tbody tr th:only-of-type {\n",
       "        vertical-align: middle;\n",
       "    }\n",
       "\n",
       "    .dataframe tbody tr th {\n",
       "        vertical-align: top;\n",
       "    }\n",
       "\n",
       "    .dataframe thead th {\n",
       "        text-align: right;\n",
       "    }\n",
       "</style>\n",
       "<table border=\"1\" class=\"dataframe\">\n",
       "  <thead>\n",
       "    <tr style=\"text-align: right;\">\n",
       "      <th></th>\n",
       "      <th>key_1</th>\n",
       "      <th>date_2</th>\n",
       "      <th>cont_3</th>\n",
       "      <th>cont_4</th>\n",
       "      <th>disc_5</th>\n",
       "      <th>disc_6</th>\n",
       "      <th>cat_7</th>\n",
       "      <th>cat_8</th>\n",
       "      <th>cont_9</th>\n",
       "      <th>cont_10</th>\n",
       "    </tr>\n",
       "  </thead>\n",
       "  <tbody>\n",
       "    <tr>\n",
       "      <th>0</th>\n",
       "      <td>HC2030</td>\n",
       "      <td>2016-11-16</td>\n",
       "      <td>622.27</td>\n",
       "      <td>-2.36</td>\n",
       "      <td>2</td>\n",
       "      <td>6</td>\n",
       "      <td>frequent</td>\n",
       "      <td>happy</td>\n",
       "      <td>0.24</td>\n",
       "      <td>0.25</td>\n",
       "    </tr>\n",
       "    <tr>\n",
       "      <th>1</th>\n",
       "      <td>sP8147</td>\n",
       "      <td>2004-02-18</td>\n",
       "      <td>1056.16</td>\n",
       "      <td>59.93</td>\n",
       "      <td>2</td>\n",
       "      <td>8</td>\n",
       "      <td>never</td>\n",
       "      <td>happy</td>\n",
       "      <td>1.94</td>\n",
       "      <td>2.29</td>\n",
       "    </tr>\n",
       "    <tr>\n",
       "      <th>2</th>\n",
       "      <td>Cq3823</td>\n",
       "      <td>2007-03-25</td>\n",
       "      <td>210.73</td>\n",
       "      <td>-93.94</td>\n",
       "      <td>1</td>\n",
       "      <td>1</td>\n",
       "      <td>never</td>\n",
       "      <td>happy</td>\n",
       "      <td>-0.11</td>\n",
       "      <td>-0.1</td>\n",
       "    </tr>\n",
       "    <tr>\n",
       "      <th>3</th>\n",
       "      <td>Hw9428</td>\n",
       "      <td>2013-12-28</td>\n",
       "      <td>1116.48</td>\n",
       "      <td>80.58</td>\n",
       "      <td>3</td>\n",
       "      <td>10</td>\n",
       "      <td>never</td>\n",
       "      <td>surprised</td>\n",
       "      <td>1.27</td>\n",
       "      <td>1.15</td>\n",
       "    </tr>\n",
       "    <tr>\n",
       "      <th>4</th>\n",
       "      <td>xZ0360</td>\n",
       "      <td>2003-08-25</td>\n",
       "      <td>1038.30</td>\n",
       "      <td>12.37</td>\n",
       "      <td>6</td>\n",
       "      <td>17</td>\n",
       "      <td>never</td>\n",
       "      <td>happy</td>\n",
       "      <td>1.76</td>\n",
       "      <td>1.76</td>\n",
       "    </tr>\n",
       "  </tbody>\n",
       "</table>\n",
       "</div>"
      ],
      "text/plain": [
       "    key_1      date_2   cont_3  cont_4  disc_5 disc_6     cat_7      cat_8  \\\n",
       "0  HC2030  2016-11-16   622.27   -2.36       2      6  frequent      happy   \n",
       "1  sP8147  2004-02-18  1056.16   59.93       2      8     never      happy   \n",
       "2  Cq3823  2007-03-25   210.73  -93.94       1      1     never      happy   \n",
       "3  Hw9428  2013-12-28  1116.48   80.58       3     10     never  surprised   \n",
       "4  xZ0360  2003-08-25  1038.30   12.37       6     17     never      happy   \n",
       "\n",
       "   cont_9 cont_10  \n",
       "0    0.24    0.25  \n",
       "1    1.94    2.29  \n",
       "2   -0.11    -0.1  \n",
       "3    1.27    1.15  \n",
       "4    1.76    1.76  "
      ]
     },
     "execution_count": 3,
     "metadata": {},
     "output_type": "execute_result"
    }
   ],
   "source": [
    "data.head()"
   ]
  },
  {
   "cell_type": "code",
   "execution_count": 4,
   "id": "d19f9cae-9a04-4151-a8d0-24f64235661b",
   "metadata": {},
   "outputs": [
    {
     "data": {
      "text/html": [
       "<div>\n",
       "<style scoped>\n",
       "    .dataframe tbody tr th:only-of-type {\n",
       "        vertical-align: middle;\n",
       "    }\n",
       "\n",
       "    .dataframe tbody tr th {\n",
       "        vertical-align: top;\n",
       "    }\n",
       "\n",
       "    .dataframe thead th {\n",
       "        text-align: right;\n",
       "    }\n",
       "</style>\n",
       "<table border=\"1\" class=\"dataframe\">\n",
       "  <thead>\n",
       "    <tr style=\"text-align: right;\">\n",
       "      <th></th>\n",
       "      <th>key_1</th>\n",
       "      <th>date_2</th>\n",
       "      <th>cont_3</th>\n",
       "      <th>cont_4</th>\n",
       "      <th>disc_5</th>\n",
       "      <th>disc_6</th>\n",
       "      <th>cat_7</th>\n",
       "      <th>cat_8</th>\n",
       "      <th>cont_9</th>\n",
       "      <th>cont_10</th>\n",
       "    </tr>\n",
       "  </thead>\n",
       "  <tbody>\n",
       "    <tr>\n",
       "      <th>999995</th>\n",
       "      <td>iu0934</td>\n",
       "      <td>2019-11-03</td>\n",
       "      <td>4084.10</td>\n",
       "      <td>0.70</td>\n",
       "      <td>3</td>\n",
       "      <td>8</td>\n",
       "      <td>always</td>\n",
       "      <td>sad</td>\n",
       "      <td>1.59</td>\n",
       "      <td>na</td>\n",
       "    </tr>\n",
       "    <tr>\n",
       "      <th>999996</th>\n",
       "      <td>Pl3288</td>\n",
       "      <td>2016-07-09</td>\n",
       "      <td>4645.25</td>\n",
       "      <td>34.13</td>\n",
       "      <td>1</td>\n",
       "      <td>7</td>\n",
       "      <td>frequent</td>\n",
       "      <td>happy</td>\n",
       "      <td>0.20</td>\n",
       "      <td>na</td>\n",
       "    </tr>\n",
       "    <tr>\n",
       "      <th>999997</th>\n",
       "      <td>po7892</td>\n",
       "      <td>2014-11-04</td>\n",
       "      <td>2959.45</td>\n",
       "      <td>154.44</td>\n",
       "      <td>5</td>\n",
       "      <td>2</td>\n",
       "      <td>infrequent</td>\n",
       "      <td>happy</td>\n",
       "      <td>1.39</td>\n",
       "      <td>1.5</td>\n",
       "    </tr>\n",
       "    <tr>\n",
       "      <th>999998</th>\n",
       "      <td>GD2303</td>\n",
       "      <td>2005-03-10</td>\n",
       "      <td>3193.15</td>\n",
       "      <td>25.60</td>\n",
       "      <td>5</td>\n",
       "      <td>5</td>\n",
       "      <td>frequent</td>\n",
       "      <td>sad</td>\n",
       "      <td>0.22</td>\n",
       "      <td>0.23</td>\n",
       "    </tr>\n",
       "    <tr>\n",
       "      <th>999999</th>\n",
       "      <td>ta3165</td>\n",
       "      <td>2001-11-03</td>\n",
       "      <td>232.23</td>\n",
       "      <td>41.14</td>\n",
       "      <td>3</td>\n",
       "      <td>5</td>\n",
       "      <td>frequent</td>\n",
       "      <td>surprised</td>\n",
       "      <td>-1.95</td>\n",
       "      <td>-1.86</td>\n",
       "    </tr>\n",
       "  </tbody>\n",
       "</table>\n",
       "</div>"
      ],
      "text/plain": [
       "         key_1      date_2   cont_3  cont_4  disc_5 disc_6       cat_7  \\\n",
       "999995  iu0934  2019-11-03  4084.10    0.70       3      8      always   \n",
       "999996  Pl3288  2016-07-09  4645.25   34.13       1      7    frequent   \n",
       "999997  po7892  2014-11-04  2959.45  154.44       5      2  infrequent   \n",
       "999998  GD2303  2005-03-10  3193.15   25.60       5      5    frequent   \n",
       "999999  ta3165  2001-11-03   232.23   41.14       3      5    frequent   \n",
       "\n",
       "            cat_8  cont_9 cont_10  \n",
       "999995        sad    1.59      na  \n",
       "999996      happy    0.20      na  \n",
       "999997      happy    1.39     1.5  \n",
       "999998        sad    0.22    0.23  \n",
       "999999  surprised   -1.95   -1.86  "
      ]
     },
     "execution_count": 4,
     "metadata": {},
     "output_type": "execute_result"
    }
   ],
   "source": [
    "data.tail()"
   ]
  },
  {
   "cell_type": "code",
   "execution_count": 27,
   "id": "b0f1a6d2-205b-4b1f-8a66-7716707d6935",
   "metadata": {},
   "outputs": [
    {
     "data": {
      "text/html": [
       "<div>\n",
       "<style scoped>\n",
       "    .dataframe tbody tr th:only-of-type {\n",
       "        vertical-align: middle;\n",
       "    }\n",
       "\n",
       "    .dataframe tbody tr th {\n",
       "        vertical-align: top;\n",
       "    }\n",
       "\n",
       "    .dataframe thead th {\n",
       "        text-align: right;\n",
       "    }\n",
       "</style>\n",
       "<table border=\"1\" class=\"dataframe\">\n",
       "  <thead>\n",
       "    <tr style=\"text-align: right;\">\n",
       "      <th></th>\n",
       "      <th>cont_3</th>\n",
       "      <th>cont_4</th>\n",
       "      <th>disc_5</th>\n",
       "      <th>cont_9</th>\n",
       "    </tr>\n",
       "  </thead>\n",
       "  <tbody>\n",
       "    <tr>\n",
       "      <th>count</th>\n",
       "      <td>1000000.000000</td>\n",
       "      <td>1000000.000000</td>\n",
       "      <td>1000000.000000</td>\n",
       "      <td>1000000.000000</td>\n",
       "    </tr>\n",
       "    <tr>\n",
       "      <th>mean</th>\n",
       "      <td>1650.254781</td>\n",
       "      <td>-0.018454</td>\n",
       "      <td>3.502646</td>\n",
       "      <td>0.000466</td>\n",
       "    </tr>\n",
       "    <tr>\n",
       "      <th>std</th>\n",
       "      <td>2162.673272</td>\n",
       "      <td>99.961782</td>\n",
       "      <td>1.707400</td>\n",
       "      <td>0.999289</td>\n",
       "    </tr>\n",
       "    <tr>\n",
       "      <th>min</th>\n",
       "      <td>7.920000</td>\n",
       "      <td>-446.890000</td>\n",
       "      <td>1.000000</td>\n",
       "      <td>-5.510000</td>\n",
       "    </tr>\n",
       "    <tr>\n",
       "      <th>25%</th>\n",
       "      <td>510.010000</td>\n",
       "      <td>-67.412500</td>\n",
       "      <td>2.000000</td>\n",
       "      <td>-0.670000</td>\n",
       "    </tr>\n",
       "    <tr>\n",
       "      <th>50%</th>\n",
       "      <td>1000.660000</td>\n",
       "      <td>0.030000</td>\n",
       "      <td>4.000000</td>\n",
       "      <td>0.000000</td>\n",
       "    </tr>\n",
       "    <tr>\n",
       "      <th>75%</th>\n",
       "      <td>1966.882500</td>\n",
       "      <td>67.290000</td>\n",
       "      <td>5.000000</td>\n",
       "      <td>0.670000</td>\n",
       "    </tr>\n",
       "    <tr>\n",
       "      <th>max</th>\n",
       "      <td>127527.830000</td>\n",
       "      <td>514.260000</td>\n",
       "      <td>6.000000</td>\n",
       "      <td>5.060000</td>\n",
       "    </tr>\n",
       "  </tbody>\n",
       "</table>\n",
       "</div>"
      ],
      "text/plain": [
       "               cont_3          cont_4          disc_5          cont_9\n",
       "count  1000000.000000  1000000.000000  1000000.000000  1000000.000000\n",
       "mean      1650.254781       -0.018454        3.502646        0.000466\n",
       "std       2162.673272       99.961782        1.707400        0.999289\n",
       "min          7.920000     -446.890000        1.000000       -5.510000\n",
       "25%        510.010000      -67.412500        2.000000       -0.670000\n",
       "50%       1000.660000        0.030000        4.000000        0.000000\n",
       "75%       1966.882500       67.290000        5.000000        0.670000\n",
       "max     127527.830000      514.260000        6.000000        5.060000"
      ]
     },
     "execution_count": 27,
     "metadata": {},
     "output_type": "execute_result"
    }
   ],
   "source": [
    "data.describe().compute()"
   ]
  },
  {
   "cell_type": "code",
   "execution_count": 6,
   "id": "0d69d7c4-9e34-4452-a486-5c32b6e3242c",
   "metadata": {},
   "outputs": [
    {
     "data": {
      "text/plain": [
       "key_1       object\n",
       "date_2      object\n",
       "cont_3     float64\n",
       "cont_4     float64\n",
       "disc_5       int64\n",
       "disc_6      object\n",
       "cat_7       object\n",
       "cat_8       object\n",
       "cont_9     float64\n",
       "cont_10     object\n",
       "dtype: object"
      ]
     },
     "execution_count": 6,
     "metadata": {},
     "output_type": "execute_result"
    }
   ],
   "source": [
    "data.dtypes"
   ]
  },
  {
   "cell_type": "code",
   "execution_count": 7,
   "id": "59c14b51-3989-4bd2-8f21-ef3969e45681",
   "metadata": {},
   "outputs": [
    {
     "data": {
      "text/plain": [
       "na    100327\n",
       "16     50273\n",
       "15     50182\n",
       "12     50175\n",
       "17     50174\n",
       "13     50136\n",
       "0      50104\n",
       "3      50085\n",
       "10     50065\n",
       "7      50009\n",
       "11     49997\n",
       "5      49955\n",
       "2      49919\n",
       "9      49842\n",
       "1      49840\n",
       "6      49825\n",
       "4      49769\n",
       "8      49751\n",
       "14     49572\n",
       "Name: disc_6, dtype: int64"
      ]
     },
     "execution_count": 7,
     "metadata": {},
     "output_type": "execute_result"
    }
   ],
   "source": [
    "data.disc_6.value_counts(dropna=False).compute()"
   ]
  },
  {
   "cell_type": "code",
   "execution_count": 8,
   "id": "37d75df2-8c80-440e-9768-4eb5a4430e1b",
   "metadata": {},
   "outputs": [
    {
     "data": {
      "text/plain": [
       "na       100266\n",
       "-0.06      3712\n",
       "-0.08      3709\n",
       "-0.04      3702\n",
       "-0.1       3700\n",
       "          ...  \n",
       "-4.12         1\n",
       "-4.11         1\n",
       "-5.7          1\n",
       "-4.79         1\n",
       "-4.21         1\n",
       "Name: cont_10, Length: 891, dtype: int64"
      ]
     },
     "execution_count": 8,
     "metadata": {},
     "output_type": "execute_result"
    }
   ],
   "source": [
    "data.cont_10.value_counts(dropna=False).compute()"
   ]
  },
  {
   "cell_type": "code",
   "execution_count": 9,
   "id": "fcf34939-5739-4e5c-b3f5-4ca7da6b6f89",
   "metadata": {},
   "outputs": [],
   "source": [
    "data['disc_6'] = data['disc_6'].replace('^[a-zA-Z]+$',np.nan, regex=True)"
   ]
  },
  {
   "cell_type": "code",
   "execution_count": 10,
   "id": "2f4c1ea3-c050-441c-83d7-a118b5c7d107",
   "metadata": {},
   "outputs": [
    {
     "data": {
      "text/plain": [
       "Dask Series Structure:\n",
       "npartitions=1\n",
       "    int64\n",
       "      ...\n",
       "Name: disc_6, dtype: int64\n",
       "Dask Name: value-counts-agg, 7 tasks"
      ]
     },
     "execution_count": 10,
     "metadata": {},
     "output_type": "execute_result"
    }
   ],
   "source": [
    "data.disc_6.value_counts(dropna=False)"
   ]
  },
  {
   "cell_type": "code",
   "execution_count": 11,
   "id": "b2ff3f20-afd0-459a-b4ae-6ef71305c8e4",
   "metadata": {},
   "outputs": [
    {
     "data": {
      "text/plain": [
       "Dask Series Structure:\n",
       "npartitions=1\n",
       "    int64\n",
       "      ...\n",
       "Name: disc_5, dtype: int64\n",
       "Dask Name: value-counts-agg, 7 tasks"
      ]
     },
     "execution_count": 11,
     "metadata": {},
     "output_type": "execute_result"
    }
   ],
   "source": [
    "data.disc_5.value_counts(dropna=False)"
   ]
  },
  {
   "cell_type": "code",
   "execution_count": 12,
   "id": "69fa2ccb-48c7-468c-b34e-b2c009b533d3",
   "metadata": {},
   "outputs": [
    {
     "data": {
      "text/plain": [
       "Dask Series Structure:\n",
       "npartitions=1\n",
       "    int64\n",
       "      ...\n",
       "Name: cont_9, dtype: int64\n",
       "Dask Name: value-counts-agg, 8 tasks"
      ]
     },
     "execution_count": 12,
     "metadata": {},
     "output_type": "execute_result"
    }
   ],
   "source": [
    "np.floor(data.cont_9).value_counts(dropna=False)"
   ]
  },
  {
   "cell_type": "code",
   "execution_count": 14,
   "id": "3aa54f6d-35c6-40d9-b5c2-be189b3c3365",
   "metadata": {},
   "outputs": [
    {
     "data": {
      "text/plain": [
       "frequent      473335\n",
       "never         473035\n",
       "infrequent     35988\n",
       "always         17642\n",
       "Name: cat_7, dtype: int64"
      ]
     },
     "execution_count": 14,
     "metadata": {},
     "output_type": "execute_result"
    }
   ],
   "source": [
    "data.cat_7.value_counts(dropna=False).compute()"
   ]
  },
  {
   "cell_type": "code",
   "execution_count": 15,
   "id": "7863268e-84bc-4af9-9597-ff283390f3ce",
   "metadata": {},
   "outputs": [
    {
     "data": {
      "text/plain": [
       "happy        492940\n",
       "surprised    430773\n",
       "sad           76020\n",
       "scared          267\n",
       "Name: cat_8, dtype: int64"
      ]
     },
     "execution_count": 15,
     "metadata": {},
     "output_type": "execute_result"
    }
   ],
   "source": [
    "data.cat_8.value_counts(dropna=False).compute()"
   ]
  },
  {
   "cell_type": "code",
   "execution_count": 17,
   "id": "f5fe9013-24cc-44b4-bc3f-299e02d3ddf3",
   "metadata": {},
   "outputs": [],
   "source": [
    "def filter_column(data: dataframe, column: str, value: str) -> dataframe:\n",
    "    return data[data[column] != value]"
   ]
  },
  {
   "cell_type": "code",
   "execution_count": 18,
   "id": "24fe1ef5-c5e3-4a1f-b5e2-85e898e78229",
   "metadata": {},
   "outputs": [],
   "source": [
    "filter_data = filter_column(data,'cat_8', 'scared')"
   ]
  },
  {
   "cell_type": "code",
   "execution_count": 19,
   "id": "cf00094b-3365-4614-aa12-d8cb8f2407b8",
   "metadata": {},
   "outputs": [
    {
     "data": {
      "text/plain": [
       "happy        492940\n",
       "surprised    430773\n",
       "sad           76020\n",
       "Name: cat_8, dtype: int64"
      ]
     },
     "execution_count": 19,
     "metadata": {},
     "output_type": "execute_result"
    }
   ],
   "source": [
    "filter_data.cat_8.value_counts(dropna=False).compute()"
   ]
  },
  {
   "cell_type": "code",
   "execution_count": 26,
   "id": "07d32684-300d-4a03-b756-ca6af6139a8f",
   "metadata": {},
   "outputs": [
    {
     "data": {
      "text/html": [
       "<style type=\"text/css\">\n",
       "#T_28966_row0_col0, #T_28966_row1_col1, #T_28966_row2_col2, #T_28966_row3_col3 {\n",
       "  background-color: #b40426;\n",
       "  color: #f1f1f1;\n",
       "}\n",
       "#T_28966_row0_col1, #T_28966_row0_col2, #T_28966_row0_col3, #T_28966_row1_col0, #T_28966_row1_col2, #T_28966_row1_col3, #T_28966_row2_col0, #T_28966_row2_col1, #T_28966_row2_col3, #T_28966_row3_col0, #T_28966_row3_col1, #T_28966_row3_col2 {\n",
       "  background-color: #3b4cc0;\n",
       "  color: #f1f1f1;\n",
       "}\n",
       "</style>\n",
       "<table id=\"T_28966_\">\n",
       "  <thead>\n",
       "    <tr>\n",
       "      <th class=\"blank level0\" >&nbsp;</th>\n",
       "      <th class=\"col_heading level0 col0\" >cont_3</th>\n",
       "      <th class=\"col_heading level0 col1\" >cont_4</th>\n",
       "      <th class=\"col_heading level0 col2\" >disc_5</th>\n",
       "      <th class=\"col_heading level0 col3\" >cont_9</th>\n",
       "    </tr>\n",
       "  </thead>\n",
       "  <tbody>\n",
       "    <tr>\n",
       "      <th id=\"T_28966_level0_row0\" class=\"row_heading level0 row0\" >cont_3</th>\n",
       "      <td id=\"T_28966_row0_col0\" class=\"data row0 col0\" >1.000000</td>\n",
       "      <td id=\"T_28966_row0_col1\" class=\"data row0 col1\" >0.002243</td>\n",
       "      <td id=\"T_28966_row0_col2\" class=\"data row0 col2\" >0.000560</td>\n",
       "      <td id=\"T_28966_row0_col3\" class=\"data row0 col3\" >0.001140</td>\n",
       "    </tr>\n",
       "    <tr>\n",
       "      <th id=\"T_28966_level0_row1\" class=\"row_heading level0 row1\" >cont_4</th>\n",
       "      <td id=\"T_28966_row1_col0\" class=\"data row1 col0\" >0.002243</td>\n",
       "      <td id=\"T_28966_row1_col1\" class=\"data row1 col1\" >1.000000</td>\n",
       "      <td id=\"T_28966_row1_col2\" class=\"data row1 col2\" >0.000251</td>\n",
       "      <td id=\"T_28966_row1_col3\" class=\"data row1 col3\" >-0.000921</td>\n",
       "    </tr>\n",
       "    <tr>\n",
       "      <th id=\"T_28966_level0_row2\" class=\"row_heading level0 row2\" >disc_5</th>\n",
       "      <td id=\"T_28966_row2_col0\" class=\"data row2 col0\" >0.000560</td>\n",
       "      <td id=\"T_28966_row2_col1\" class=\"data row2 col1\" >0.000251</td>\n",
       "      <td id=\"T_28966_row2_col2\" class=\"data row2 col2\" >1.000000</td>\n",
       "      <td id=\"T_28966_row2_col3\" class=\"data row2 col3\" >-0.000451</td>\n",
       "    </tr>\n",
       "    <tr>\n",
       "      <th id=\"T_28966_level0_row3\" class=\"row_heading level0 row3\" >cont_9</th>\n",
       "      <td id=\"T_28966_row3_col0\" class=\"data row3 col0\" >0.001140</td>\n",
       "      <td id=\"T_28966_row3_col1\" class=\"data row3 col1\" >-0.000921</td>\n",
       "      <td id=\"T_28966_row3_col2\" class=\"data row3 col2\" >-0.000451</td>\n",
       "      <td id=\"T_28966_row3_col3\" class=\"data row3 col3\" >1.000000</td>\n",
       "    </tr>\n",
       "  </tbody>\n",
       "</table>\n"
      ],
      "text/plain": [
       "<pandas.io.formats.style.Styler at 0x1bed77e52e0>"
      ]
     },
     "execution_count": 26,
     "metadata": {},
     "output_type": "execute_result"
    }
   ],
   "source": [
    "import matplotlib.pyplot as plt\n",
    "\n",
    "corr = filter_data.corr().compute()\n",
    "corr.style.background_gradient(cmap='coolwarm')"
   ]
  }
 ],
 "metadata": {
  "kernelspec": {
   "display_name": "Python 3 (ipykernel)",
   "language": "python",
   "name": "python3"
  },
  "language_info": {
   "codemirror_mode": {
    "name": "ipython",
    "version": 3
   },
   "file_extension": ".py",
   "mimetype": "text/x-python",
   "name": "python",
   "nbconvert_exporter": "python",
   "pygments_lexer": "ipython3",
   "version": "3.9.7"
  }
 },
 "nbformat": 4,
 "nbformat_minor": 5
}
